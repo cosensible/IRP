{
 "cells": [
  {
   "cell_type": "code",
   "execution_count": 24,
   "metadata": {},
   "outputs": [
    {
     "data": {
      "text/html": [
       "<script>requirejs.config({paths: { 'plotly': ['https://cdn.plot.ly/plotly-latest.min']},});if(!window.Plotly) {{require(['plotly'],function(plotly) {window.Plotly=plotly;});}}</script>"
      ],
      "text/vnd.plotly.v1+html": [
       "<script>requirejs.config({paths: { 'plotly': ['https://cdn.plot.ly/plotly-latest.min']},});if(!window.Plotly) {{require(['plotly'],function(plotly) {window.Plotly=plotly;});}}</script>"
      ]
     },
     "metadata": {},
     "output_type": "display_data"
    },
    {
     "name": "stdout",
     "output_type": "stream",
     "text": [
      "车的容量： 1086\n"
     ]
    },
    {
     "data": {
      "application/vnd.plotly.v1+json": {
       "data": [
        {
         "mode": "markers",
         "type": "scatter",
         "x": [
          61,
          186,
          402,
          205,
          315,
          410,
          275,
          133,
          175,
          63,
          66,
          333,
          287,
          317,
          290,
          117
         ],
         "y": [
          317,
          410,
          162,
          443,
          444,
          372,
          481,
          162,
          162,
          441,
          230,
          14,
          116,
          113,
          407,
          475
         ]
        },
        {
         "marker": {
          "cauto": true,
          "color": [
           "black",
           2,
           2,
           2,
           2,
           2,
           2,
           2,
           2,
           2,
           2,
           2,
           2,
           2,
           2,
           2
          ],
          "opacity": 0.8,
          "showscale": true,
          "size": [
           50,
           0,
           0,
           0,
           42,
           0,
           0,
           28,
           0,
           0,
           53,
           30,
           14,
           0,
           16,
           0
          ]
         },
         "mode": "markers",
         "type": "scatter",
         "x": [
          61,
          186,
          402,
          205,
          315,
          410,
          275,
          133,
          175,
          63,
          66,
          333,
          287,
          317,
          290,
          117
         ],
         "y": [
          317,
          410,
          162,
          443,
          444,
          372,
          481,
          162,
          162,
          441,
          230,
          14,
          116,
          113,
          407,
          475
         ]
        },
        {
         "type": "scatter",
         "x": [
          61
         ],
         "y": [
          317
         ]
        }
       ],
       "layout": {
        "title": "period1",
        "xaxis": {
         "title": "x"
        },
        "yaxis": {
         "title": "y"
        }
       }
      },
      "text/html": [
       "<div id=\"f5fa4eb5-ed32-4380-a411-ae01b724d817\" style=\"height: 525px; width: 100%;\" class=\"plotly-graph-div\"></div><script type=\"text/javascript\">require([\"plotly\"], function(Plotly) { window.PLOTLYENV=window.PLOTLYENV || {};window.PLOTLYENV.BASE_URL=\"https://plot.ly\";Plotly.newPlot(\"f5fa4eb5-ed32-4380-a411-ae01b724d817\", [{\"type\": \"scatter\", \"x\": [61, 186, 402, 205, 315, 410, 275, 133, 175, 63, 66, 333, 287, 317, 290, 117], \"y\": [317, 410, 162, 443, 444, 372, 481, 162, 162, 441, 230, 14, 116, 113, 407, 475], \"mode\": \"markers\"}, {\"type\": \"scatter\", \"x\": [61, 186, 402, 205, 315, 410, 275, 133, 175, 63, 66, 333, 287, 317, 290, 117], \"y\": [317, 410, 162, 443, 444, 372, 481, 162, 162, 441, 230, 14, 116, 113, 407, 475], \"marker\": {\"size\": [50, 0, 0, 0, 42, 0, 0, 28, 0, 0, 53, 30, 14, 0, 16, 0], \"color\": [\"black\", 2, 2, 2, 2, 2, 2, 2, 2, 2, 2, 2, 2, 2, 2, 2], \"showscale\": true, \"cauto\": true, \"opacity\": 0.8}, \"mode\": \"markers\"}, {\"type\": \"scatter\", \"x\": [61], \"y\": [317]}], {\"title\": \"period1\", \"xaxis\": {\"title\": \"x\"}, \"yaxis\": {\"title\": \"y\"}}, {\"showLink\": true, \"linkText\": \"Export to plot.ly\"})});</script>"
      ],
      "text/vnd.plotly.v1+html": [
       "<div id=\"f5fa4eb5-ed32-4380-a411-ae01b724d817\" style=\"height: 525px; width: 100%;\" class=\"plotly-graph-div\"></div><script type=\"text/javascript\">require([\"plotly\"], function(Plotly) { window.PLOTLYENV=window.PLOTLYENV || {};window.PLOTLYENV.BASE_URL=\"https://plot.ly\";Plotly.newPlot(\"f5fa4eb5-ed32-4380-a411-ae01b724d817\", [{\"type\": \"scatter\", \"x\": [61, 186, 402, 205, 315, 410, 275, 133, 175, 63, 66, 333, 287, 317, 290, 117], \"y\": [317, 410, 162, 443, 444, 372, 481, 162, 162, 441, 230, 14, 116, 113, 407, 475], \"mode\": \"markers\"}, {\"type\": \"scatter\", \"x\": [61, 186, 402, 205, 315, 410, 275, 133, 175, 63, 66, 333, 287, 317, 290, 117], \"y\": [317, 410, 162, 443, 444, 372, 481, 162, 162, 441, 230, 14, 116, 113, 407, 475], \"marker\": {\"size\": [50, 0, 0, 0, 42, 0, 0, 28, 0, 0, 53, 30, 14, 0, 16, 0], \"color\": [\"black\", 2, 2, 2, 2, 2, 2, 2, 2, 2, 2, 2, 2, 2, 2, 2], \"showscale\": true, \"cauto\": true, \"opacity\": 0.8}, \"mode\": \"markers\"}, {\"type\": \"scatter\", \"x\": [61], \"y\": [317]}], {\"title\": \"period1\", \"xaxis\": {\"title\": \"x\"}, \"yaxis\": {\"title\": \"y\"}}, {\"showLink\": true, \"linkText\": \"Export to plot.ly\"})});</script>"
      ]
     },
     "metadata": {},
     "output_type": "display_data"
    },
    {
     "name": "stdout",
     "output_type": "stream",
     "text": [
      "装货量： 1086.00\n"
     ]
    },
    {
     "data": {
      "application/vnd.plotly.v1+json": {
       "data": [
        {
         "mode": "markers",
         "type": "scatter",
         "x": [
          61,
          186,
          402,
          205,
          315,
          410,
          275,
          133,
          175,
          63,
          66,
          333,
          287,
          317,
          290,
          117
         ],
         "y": [
          317,
          410,
          162,
          443,
          444,
          372,
          481,
          162,
          162,
          441,
          230,
          14,
          116,
          113,
          407,
          475
         ]
        },
        {
         "marker": {
          "cauto": true,
          "color": [
           "black",
           36,
           196,
           38,
           44,
           188,
           28,
           30,
           174,
           74,
           57,
           32,
           16,
           112,
           34,
           57
          ],
          "opacity": 0.8,
          "showscale": true,
          "size": [
           50,
           0,
           97,
           0,
           42,
           93,
           13,
           28,
           86,
           0,
           55,
           30,
           14,
           55,
           32,
           0
          ]
         },
         "mode": "markers",
         "type": "scatter",
         "x": [
          61,
          186,
          402,
          205,
          315,
          410,
          275,
          133,
          175,
          63,
          66,
          333,
          287,
          317,
          290,
          117
         ],
         "y": [
          317,
          410,
          162,
          443,
          444,
          372,
          481,
          162,
          162,
          441,
          230,
          14,
          116,
          113,
          407,
          475
         ]
        },
        {
         "type": "scatter",
         "x": [
          61,
          63,
          117,
          186,
          205,
          275,
          315,
          290,
          410,
          402,
          333,
          317,
          287,
          175,
          133,
          66,
          61
         ],
         "y": [
          317,
          441,
          475,
          410,
          443,
          481,
          444,
          407,
          372,
          162,
          14,
          113,
          116,
          162,
          162,
          230,
          317
         ]
        }
       ],
       "layout": {
        "title": "period2",
        "xaxis": {
         "title": "x"
        },
        "yaxis": {
         "title": "y"
        }
       }
      },
      "text/html": [
       "<div id=\"3c7c5ccc-ebdc-405d-b864-08a6fe3b7383\" style=\"height: 525px; width: 100%;\" class=\"plotly-graph-div\"></div><script type=\"text/javascript\">require([\"plotly\"], function(Plotly) { window.PLOTLYENV=window.PLOTLYENV || {};window.PLOTLYENV.BASE_URL=\"https://plot.ly\";Plotly.newPlot(\"3c7c5ccc-ebdc-405d-b864-08a6fe3b7383\", [{\"type\": \"scatter\", \"x\": [61, 186, 402, 205, 315, 410, 275, 133, 175, 63, 66, 333, 287, 317, 290, 117], \"y\": [317, 410, 162, 443, 444, 372, 481, 162, 162, 441, 230, 14, 116, 113, 407, 475], \"mode\": \"markers\"}, {\"type\": \"scatter\", \"x\": [61, 186, 402, 205, 315, 410, 275, 133, 175, 63, 66, 333, 287, 317, 290, 117], \"y\": [317, 410, 162, 443, 444, 372, 481, 162, 162, 441, 230, 14, 116, 113, 407, 475], \"marker\": {\"size\": [50, 0.0, 97.0, 0.0, 42.0, 93.0, 13.0, 28.0, 86.0, 0.0, 55.0, 30.0, 14.0, 55.0, 32.0, 0.0], \"color\": [\"black\", 36.0, 196.0, 38.0, 44.0, 188.0, 28.0, 30.0, 174.0, 74.0, 57.0, 32.0, 16.0, 112.0, 34.0, 57.0], \"showscale\": true, \"cauto\": true, \"opacity\": 0.8}, \"mode\": \"markers\"}, {\"type\": \"scatter\", \"x\": [61, 63, 117, 186, 205, 275, 315, 290, 410, 402, 333, 317, 287, 175, 133, 66, 61], \"y\": [317, 441, 475, 410, 443, 481, 444, 407, 372, 162, 14, 113, 116, 162, 162, 230, 317]}], {\"title\": \"period2\", \"xaxis\": {\"title\": \"x\"}, \"yaxis\": {\"title\": \"y\"}}, {\"showLink\": true, \"linkText\": \"Export to plot.ly\"})});</script>"
      ],
      "text/vnd.plotly.v1+html": [
       "<div id=\"3c7c5ccc-ebdc-405d-b864-08a6fe3b7383\" style=\"height: 525px; width: 100%;\" class=\"plotly-graph-div\"></div><script type=\"text/javascript\">require([\"plotly\"], function(Plotly) { window.PLOTLYENV=window.PLOTLYENV || {};window.PLOTLYENV.BASE_URL=\"https://plot.ly\";Plotly.newPlot(\"3c7c5ccc-ebdc-405d-b864-08a6fe3b7383\", [{\"type\": \"scatter\", \"x\": [61, 186, 402, 205, 315, 410, 275, 133, 175, 63, 66, 333, 287, 317, 290, 117], \"y\": [317, 410, 162, 443, 444, 372, 481, 162, 162, 441, 230, 14, 116, 113, 407, 475], \"mode\": \"markers\"}, {\"type\": \"scatter\", \"x\": [61, 186, 402, 205, 315, 410, 275, 133, 175, 63, 66, 333, 287, 317, 290, 117], \"y\": [317, 410, 162, 443, 444, 372, 481, 162, 162, 441, 230, 14, 116, 113, 407, 475], \"marker\": {\"size\": [50, 0.0, 97.0, 0.0, 42.0, 93.0, 13.0, 28.0, 86.0, 0.0, 55.0, 30.0, 14.0, 55.0, 32.0, 0.0], \"color\": [\"black\", 36.0, 196.0, 38.0, 44.0, 188.0, 28.0, 30.0, 174.0, 74.0, 57.0, 32.0, 16.0, 112.0, 34.0, 57.0], \"showscale\": true, \"cauto\": true, \"opacity\": 0.8}, \"mode\": \"markers\"}, {\"type\": \"scatter\", \"x\": [61, 63, 117, 186, 205, 275, 315, 290, 410, 402, 333, 317, 287, 175, 133, 66, 61], \"y\": [317, 441, 475, 410, 443, 481, 444, 407, 372, 162, 14, 113, 116, 162, 162, 230, 317]}], {\"title\": \"period2\", \"xaxis\": {\"title\": \"x\"}, \"yaxis\": {\"title\": \"y\"}}, {\"showLink\": true, \"linkText\": \"Export to plot.ly\"})});</script>"
      ]
     },
     "metadata": {},
     "output_type": "display_data"
    },
    {
     "name": "stdout",
     "output_type": "stream",
     "text": [
      "装货量： 360.00\n"
     ]
    },
    {
     "data": {
      "application/vnd.plotly.v1+json": {
       "data": [
        {
         "mode": "markers",
         "type": "scatter",
         "x": [
          61,
          186,
          402,
          205,
          315,
          410,
          275,
          133,
          175,
          63,
          66,
          333,
          287,
          317,
          290,
          117
         ],
         "y": [
          317,
          410,
          162,
          443,
          444,
          372,
          481,
          162,
          162,
          441,
          230,
          14,
          116,
          113,
          407,
          475
         ]
        },
        {
         "marker": {
          "cauto": true,
          "color": [
           "black",
           36,
           2,
           74,
           2,
           2,
           2,
           2,
           2,
           146,
           2,
           2,
           2,
           2,
           2,
           112
          ],
          "opacity": 0.8,
          "showscale": true,
          "size": [
           50,
           0,
           0,
           36,
           0,
           0,
           0,
           0,
           0,
           72,
           2,
           0,
           0,
           0,
           16,
           55
          ]
         },
         "mode": "markers",
         "type": "scatter",
         "x": [
          61,
          186,
          402,
          205,
          315,
          410,
          275,
          133,
          175,
          63,
          66,
          333,
          287,
          317,
          290,
          117
         ],
         "y": [
          317,
          410,
          162,
          443,
          444,
          372,
          481,
          162,
          162,
          441,
          230,
          14,
          116,
          113,
          407,
          475
         ]
        },
        {
         "type": "scatter",
         "x": [
          61,
          186,
          205,
          117,
          63,
          61
         ],
         "y": [
          317,
          410,
          443,
          475,
          441,
          317
         ]
        }
       ],
       "layout": {
        "title": "period3",
        "xaxis": {
         "title": "x"
        },
        "yaxis": {
         "title": "y"
        }
       }
      },
      "text/html": [
       "<div id=\"58234df7-a2f3-4cc6-9f1a-3743fd0a6679\" style=\"height: 525px; width: 100%;\" class=\"plotly-graph-div\"></div><script type=\"text/javascript\">require([\"plotly\"], function(Plotly) { window.PLOTLYENV=window.PLOTLYENV || {};window.PLOTLYENV.BASE_URL=\"https://plot.ly\";Plotly.newPlot(\"58234df7-a2f3-4cc6-9f1a-3743fd0a6679\", [{\"type\": \"scatter\", \"x\": [61, 186, 402, 205, 315, 410, 275, 133, 175, 63, 66, 333, 287, 317, 290, 117], \"y\": [317, 410, 162, 443, 444, 372, 481, 162, 162, 441, 230, 14, 116, 113, 407, 475], \"mode\": \"markers\"}, {\"type\": \"scatter\", \"x\": [61, 186, 402, 205, 315, 410, 275, 133, 175, 63, 66, 333, 287, 317, 290, 117], \"y\": [317, 410, 162, 443, 444, 372, 481, 162, 162, 441, 230, 14, 116, 113, 407, 475], \"marker\": {\"size\": [50, 0.0, 0.0, 36.0, 0.0, 0.0, 0.0, 0.0, 0.0, 72.0, 2.0, 0.0, 0.0, 0.0, 16.0, 55.0], \"color\": [\"black\", 36.0, 2, 74.0, 2, 2, 2, 2, 2, 146.0, 2, 2, 2, 2, 2, 112.0], \"showscale\": true, \"cauto\": true, \"opacity\": 0.8}, \"mode\": \"markers\"}, {\"type\": \"scatter\", \"x\": [61, 186, 205, 117, 63, 61], \"y\": [317, 410, 443, 475, 441, 317]}], {\"title\": \"period3\", \"xaxis\": {\"title\": \"x\"}, \"yaxis\": {\"title\": \"y\"}}, {\"showLink\": true, \"linkText\": \"Export to plot.ly\"})});</script>"
      ],
      "text/vnd.plotly.v1+html": [
       "<div id=\"58234df7-a2f3-4cc6-9f1a-3743fd0a6679\" style=\"height: 525px; width: 100%;\" class=\"plotly-graph-div\"></div><script type=\"text/javascript\">require([\"plotly\"], function(Plotly) { window.PLOTLYENV=window.PLOTLYENV || {};window.PLOTLYENV.BASE_URL=\"https://plot.ly\";Plotly.newPlot(\"58234df7-a2f3-4cc6-9f1a-3743fd0a6679\", [{\"type\": \"scatter\", \"x\": [61, 186, 402, 205, 315, 410, 275, 133, 175, 63, 66, 333, 287, 317, 290, 117], \"y\": [317, 410, 162, 443, 444, 372, 481, 162, 162, 441, 230, 14, 116, 113, 407, 475], \"mode\": \"markers\"}, {\"type\": \"scatter\", \"x\": [61, 186, 402, 205, 315, 410, 275, 133, 175, 63, 66, 333, 287, 317, 290, 117], \"y\": [317, 410, 162, 443, 444, 372, 481, 162, 162, 441, 230, 14, 116, 113, 407, 475], \"marker\": {\"size\": [50, 0.0, 0.0, 36.0, 0.0, 0.0, 0.0, 0.0, 0.0, 72.0, 2.0, 0.0, 0.0, 0.0, 16.0, 55.0], \"color\": [\"black\", 36.0, 2, 74.0, 2, 2, 2, 2, 2, 146.0, 2, 2, 2, 2, 2, 112.0], \"showscale\": true, \"cauto\": true, \"opacity\": 0.8}, \"mode\": \"markers\"}, {\"type\": \"scatter\", \"x\": [61, 186, 205, 117, 63, 61], \"y\": [317, 410, 443, 475, 441, 317]}], {\"title\": \"period3\", \"xaxis\": {\"title\": \"x\"}, \"yaxis\": {\"title\": \"y\"}}, {\"showLink\": true, \"linkText\": \"Export to plot.ly\"})});</script>"
      ]
     },
     "metadata": {},
     "output_type": "display_data"
    },
    {
     "name": "stdout",
     "output_type": "stream",
     "text": [
      "装货量： 905.00\n"
     ]
    },
    {
     "data": {
      "application/vnd.plotly.v1+json": {
       "data": [
        {
         "mode": "markers",
         "type": "scatter",
         "x": [
          61,
          186,
          402,
          205,
          315,
          410,
          275,
          133,
          175,
          63,
          66,
          333,
          287,
          317,
          290,
          117
         ],
         "y": [
          317,
          410,
          162,
          443,
          444,
          372,
          481,
          162,
          162,
          441,
          230,
          14,
          116,
          113,
          407,
          475
         ]
        },
        {
         "marker": {
          "cauto": true,
          "color": [
           "black",
           51,
           99,
           2,
           128,
           95,
           28,
           86,
           88,
           2,
           159,
           92,
           44,
           57,
           2,
           2
          ],
          "opacity": 0.8,
          "showscale": true,
          "size": [
           50,
           15,
           0,
           0,
           84,
           0,
           13,
           56,
           0,
           0,
           106,
           60,
           28,
           0,
           0,
           0
          ]
         },
         "mode": "markers",
         "type": "scatter",
         "x": [
          61,
          186,
          402,
          205,
          315,
          410,
          275,
          133,
          175,
          63,
          66,
          333,
          287,
          317,
          290,
          117
         ],
         "y": [
          317,
          410,
          162,
          443,
          444,
          372,
          481,
          162,
          162,
          441,
          230,
          14,
          116,
          113,
          407,
          475
         ]
        },
        {
         "type": "scatter",
         "x": [
          61,
          66,
          133,
          175,
          287,
          317,
          333,
          402,
          410,
          315,
          275,
          186,
          61
         ],
         "y": [
          317,
          230,
          162,
          162,
          116,
          113,
          14,
          162,
          372,
          444,
          481,
          410,
          317
         ]
        }
       ],
       "layout": {
        "title": "period4",
        "xaxis": {
         "title": "x"
        },
        "yaxis": {
         "title": "y"
        }
       }
      },
      "text/html": [
       "<div id=\"82ae7c3e-cffb-41bb-8703-de986a25fd98\" style=\"height: 525px; width: 100%;\" class=\"plotly-graph-div\"></div><script type=\"text/javascript\">require([\"plotly\"], function(Plotly) { window.PLOTLYENV=window.PLOTLYENV || {};window.PLOTLYENV.BASE_URL=\"https://plot.ly\";Plotly.newPlot(\"82ae7c3e-cffb-41bb-8703-de986a25fd98\", [{\"type\": \"scatter\", \"x\": [61, 186, 402, 205, 315, 410, 275, 133, 175, 63, 66, 333, 287, 317, 290, 117], \"y\": [317, 410, 162, 443, 444, 372, 481, 162, 162, 441, 230, 14, 116, 113, 407, 475], \"mode\": \"markers\"}, {\"type\": \"scatter\", \"x\": [61, 186, 402, 205, 315, 410, 275, 133, 175, 63, 66, 333, 287, 317, 290, 117], \"y\": [317, 410, 162, 443, 444, 372, 481, 162, 162, 441, 230, 14, 116, 113, 407, 475], \"marker\": {\"size\": [50, 15.0, 0.0, 0.0, 84.0, 0.0, 13.0, 56.0, 0.0, 0.0, 106.0, 60.0, 28.0, 0.0, 0.0, 0.0], \"color\": [\"black\", 51.0, 99.0, 2, 128.0, 95.0, 28.0, 86.0, 88.0, 2, 159.0, 92.0, 44.0, 57.0, 2, 2], \"showscale\": true, \"cauto\": true, \"opacity\": 0.8}, \"mode\": \"markers\"}, {\"type\": \"scatter\", \"x\": [61, 66, 133, 175, 287, 317, 333, 402, 410, 315, 275, 186, 61], \"y\": [317, 230, 162, 162, 116, 113, 14, 162, 372, 444, 481, 410, 317]}], {\"title\": \"period4\", \"xaxis\": {\"title\": \"x\"}, \"yaxis\": {\"title\": \"y\"}}, {\"showLink\": true, \"linkText\": \"Export to plot.ly\"})});</script>"
      ],
      "text/vnd.plotly.v1+html": [
       "<div id=\"82ae7c3e-cffb-41bb-8703-de986a25fd98\" style=\"height: 525px; width: 100%;\" class=\"plotly-graph-div\"></div><script type=\"text/javascript\">require([\"plotly\"], function(Plotly) { window.PLOTLYENV=window.PLOTLYENV || {};window.PLOTLYENV.BASE_URL=\"https://plot.ly\";Plotly.newPlot(\"82ae7c3e-cffb-41bb-8703-de986a25fd98\", [{\"type\": \"scatter\", \"x\": [61, 186, 402, 205, 315, 410, 275, 133, 175, 63, 66, 333, 287, 317, 290, 117], \"y\": [317, 410, 162, 443, 444, 372, 481, 162, 162, 441, 230, 14, 116, 113, 407, 475], \"mode\": \"markers\"}, {\"type\": \"scatter\", \"x\": [61, 186, 402, 205, 315, 410, 275, 133, 175, 63, 66, 333, 287, 317, 290, 117], \"y\": [317, 410, 162, 443, 444, 372, 481, 162, 162, 441, 230, 14, 116, 113, 407, 475], \"marker\": {\"size\": [50, 15.0, 0.0, 0.0, 84.0, 0.0, 13.0, 56.0, 0.0, 0.0, 106.0, 60.0, 28.0, 0.0, 0.0, 0.0], \"color\": [\"black\", 51.0, 99.0, 2, 128.0, 95.0, 28.0, 86.0, 88.0, 2, 159.0, 92.0, 44.0, 57.0, 2, 2], \"showscale\": true, \"cauto\": true, \"opacity\": 0.8}, \"mode\": \"markers\"}, {\"type\": \"scatter\", \"x\": [61, 66, 133, 175, 287, 317, 333, 402, 410, 315, 275, 186, 61], \"y\": [317, 230, 162, 162, 116, 113, 14, 162, 372, 444, 481, 410, 317]}], {\"title\": \"period4\", \"xaxis\": {\"title\": \"x\"}, \"yaxis\": {\"title\": \"y\"}}, {\"showLink\": true, \"linkText\": \"Export to plot.ly\"})});</script>"
      ]
     },
     "metadata": {},
     "output_type": "display_data"
    },
    {
     "name": "stdout",
     "output_type": "stream",
     "text": [
      "装货量： 1086.00\n"
     ]
    },
    {
     "data": {
      "application/vnd.plotly.v1+json": {
       "data": [
        {
         "mode": "markers",
         "type": "scatter",
         "x": [
          61,
          186,
          402,
          205,
          315,
          410,
          275,
          133,
          175,
          63,
          66,
          333,
          287,
          317,
          290,
          117
         ],
         "y": [
          317,
          410,
          162,
          443,
          444,
          372,
          481,
          162,
          162,
          441,
          230,
          14,
          116,
          113,
          407,
          475
         ]
        },
        {
         "marker": {
          "cauto": true,
          "color": [
           "black",
           55,
           196,
           74,
           2,
           188,
           15,
           2,
           174,
           146,
           2,
           2,
           2,
           112,
           34,
           112
          ],
          "opacity": 0.8,
          "showscale": true,
          "size": [
           50,
           34,
           97,
           36,
           42,
           93,
           13,
           28,
           86,
           72,
           53,
           30,
           14,
           55,
           16,
           55
          ]
         },
         "mode": "markers",
         "type": "scatter",
         "x": [
          61,
          186,
          402,
          205,
          315,
          410,
          275,
          133,
          175,
          63,
          66,
          333,
          287,
          317,
          290,
          117
         ],
         "y": [
          317,
          410,
          162,
          443,
          444,
          372,
          481,
          162,
          162,
          441,
          230,
          14,
          116,
          113,
          407,
          475
         ]
        },
        {
         "type": "scatter",
         "x": [
          61,
          63,
          117,
          186,
          205,
          275,
          290,
          410,
          402,
          317,
          175,
          61
         ],
         "y": [
          317,
          441,
          475,
          410,
          443,
          481,
          407,
          372,
          162,
          113,
          162,
          317
         ]
        }
       ],
       "layout": {
        "title": "period5",
        "xaxis": {
         "title": "x"
        },
        "yaxis": {
         "title": "y"
        }
       }
      },
      "text/html": [
       "<div id=\"5a1f1a83-fa6b-4433-9f0f-cc79ab971f66\" style=\"height: 525px; width: 100%;\" class=\"plotly-graph-div\"></div><script type=\"text/javascript\">require([\"plotly\"], function(Plotly) { window.PLOTLYENV=window.PLOTLYENV || {};window.PLOTLYENV.BASE_URL=\"https://plot.ly\";Plotly.newPlot(\"5a1f1a83-fa6b-4433-9f0f-cc79ab971f66\", [{\"type\": \"scatter\", \"x\": [61, 186, 402, 205, 315, 410, 275, 133, 175, 63, 66, 333, 287, 317, 290, 117], \"y\": [317, 410, 162, 443, 444, 372, 481, 162, 162, 441, 230, 14, 116, 113, 407, 475], \"mode\": \"markers\"}, {\"type\": \"scatter\", \"x\": [61, 186, 402, 205, 315, 410, 275, 133, 175, 63, 66, 333, 287, 317, 290, 117], \"y\": [317, 410, 162, 443, 444, 372, 481, 162, 162, 441, 230, 14, 116, 113, 407, 475], \"marker\": {\"size\": [50, 34.0, 97.0, 36.0, 42.0, 93.0, 13.0, 28.0, 86.0, 72.0, 53.0, 30.0, 14.0, 55.0, 16.0, 55.0], \"color\": [\"black\", 55.0, 196.0, 74.0, 2, 188.0, 15.0, 2, 174.0, 146.0, 2, 2, 2, 112.0, 34.0, 112.0], \"showscale\": true, \"cauto\": true, \"opacity\": 0.8}, \"mode\": \"markers\"}, {\"type\": \"scatter\", \"x\": [61, 63, 117, 186, 205, 275, 290, 410, 402, 317, 175, 61], \"y\": [317, 441, 475, 410, 443, 481, 407, 372, 162, 113, 162, 317]}], {\"title\": \"period5\", \"xaxis\": {\"title\": \"x\"}, \"yaxis\": {\"title\": \"y\"}}, {\"showLink\": true, \"linkText\": \"Export to plot.ly\"})});</script>"
      ],
      "text/vnd.plotly.v1+html": [
       "<div id=\"5a1f1a83-fa6b-4433-9f0f-cc79ab971f66\" style=\"height: 525px; width: 100%;\" class=\"plotly-graph-div\"></div><script type=\"text/javascript\">require([\"plotly\"], function(Plotly) { window.PLOTLYENV=window.PLOTLYENV || {};window.PLOTLYENV.BASE_URL=\"https://plot.ly\";Plotly.newPlot(\"5a1f1a83-fa6b-4433-9f0f-cc79ab971f66\", [{\"type\": \"scatter\", \"x\": [61, 186, 402, 205, 315, 410, 275, 133, 175, 63, 66, 333, 287, 317, 290, 117], \"y\": [317, 410, 162, 443, 444, 372, 481, 162, 162, 441, 230, 14, 116, 113, 407, 475], \"mode\": \"markers\"}, {\"type\": \"scatter\", \"x\": [61, 186, 402, 205, 315, 410, 275, 133, 175, 63, 66, 333, 287, 317, 290, 117], \"y\": [317, 410, 162, 443, 444, 372, 481, 162, 162, 441, 230, 14, 116, 113, 407, 475], \"marker\": {\"size\": [50, 34.0, 97.0, 36.0, 42.0, 93.0, 13.0, 28.0, 86.0, 72.0, 53.0, 30.0, 14.0, 55.0, 16.0, 55.0], \"color\": [\"black\", 55.0, 196.0, 74.0, 2, 188.0, 15.0, 2, 174.0, 146.0, 2, 2, 2, 112.0, 34.0, 112.0], \"showscale\": true, \"cauto\": true, \"opacity\": 0.8}, \"mode\": \"markers\"}, {\"type\": \"scatter\", \"x\": [61, 63, 117, 186, 205, 275, 290, 410, 402, 317, 175, 61], \"y\": [317, 441, 475, 410, 443, 481, 407, 372, 162, 113, 162, 317]}], {\"title\": \"period5\", \"xaxis\": {\"title\": \"x\"}, \"yaxis\": {\"title\": \"y\"}}, {\"showLink\": true, \"linkText\": \"Export to plot.ly\"})});</script>"
      ]
     },
     "metadata": {},
     "output_type": "display_data"
    },
    {
     "data": {
      "application/vnd.plotly.v1+json": {
       "data": [
        {
         "mode": "markers",
         "type": "scatter",
         "x": [
          61,
          186,
          402,
          205,
          315,
          410,
          275,
          133,
          175,
          63,
          66,
          333,
          287,
          317,
          290,
          117
         ],
         "y": [
          317,
          410,
          162,
          443,
          444,
          372,
          481,
          162,
          162,
          441,
          230,
          14,
          116,
          113,
          407,
          475
         ]
        },
        {
         "marker": {
          "cauto": true,
          "color": [
           "black",
           2,
           2,
           2,
           2,
           2,
           2,
           2,
           2,
           2,
           2,
           2,
           2,
           2,
           2,
           2
          ],
          "opacity": 0.8,
          "showscale": true,
          "size": [
           50,
           0,
           0,
           0,
           0,
           0,
           0,
           0,
           0,
           0,
           0,
           0,
           0,
           0,
           0,
           0
          ]
         },
         "mode": "markers",
         "type": "scatter",
         "x": [
          61,
          186,
          402,
          205,
          315,
          410,
          275,
          133,
          175,
          63,
          66,
          333,
          287,
          317,
          290,
          117
         ],
         "y": [
          317,
          410,
          162,
          443,
          444,
          372,
          481,
          162,
          162,
          441,
          230,
          14,
          116,
          113,
          407,
          475
         ]
        },
        {
         "type": "scatter",
         "x": [
          61
         ],
         "y": [
          317
         ]
        }
       ],
       "layout": {
        "title": "period6",
        "xaxis": {
         "title": "x"
        },
        "yaxis": {
         "title": "y"
        }
       }
      },
      "text/html": [
       "<div id=\"5508e270-7711-4e05-af1d-668c6e562223\" style=\"height: 525px; width: 100%;\" class=\"plotly-graph-div\"></div><script type=\"text/javascript\">require([\"plotly\"], function(Plotly) { window.PLOTLYENV=window.PLOTLYENV || {};window.PLOTLYENV.BASE_URL=\"https://plot.ly\";Plotly.newPlot(\"5508e270-7711-4e05-af1d-668c6e562223\", [{\"type\": \"scatter\", \"x\": [61, 186, 402, 205, 315, 410, 275, 133, 175, 63, 66, 333, 287, 317, 290, 117], \"y\": [317, 410, 162, 443, 444, 372, 481, 162, 162, 441, 230, 14, 116, 113, 407, 475], \"mode\": \"markers\"}, {\"type\": \"scatter\", \"x\": [61, 186, 402, 205, 315, 410, 275, 133, 175, 63, 66, 333, 287, 317, 290, 117], \"y\": [317, 410, 162, 443, 444, 372, 481, 162, 162, 441, 230, 14, 116, 113, 407, 475], \"marker\": {\"size\": [50, 0.0, 0.0, 0.0, 0.0, 0.0, 0.0, 0.0, 0.0, 0.0, 0.0, 0.0, 0.0, 0.0, 0.0, 0.0], \"color\": [\"black\", 2, 2, 2, 2, 2, 2, 2, 2, 2, 2, 2, 2, 2, 2, 2], \"showscale\": true, \"cauto\": true, \"opacity\": 0.8}, \"mode\": \"markers\"}, {\"type\": \"scatter\", \"x\": [61], \"y\": [317]}], {\"title\": \"period6\", \"xaxis\": {\"title\": \"x\"}, \"yaxis\": {\"title\": \"y\"}}, {\"showLink\": true, \"linkText\": \"Export to plot.ly\"})});</script>"
      ],
      "text/vnd.plotly.v1+html": [
       "<div id=\"5508e270-7711-4e05-af1d-668c6e562223\" style=\"height: 525px; width: 100%;\" class=\"plotly-graph-div\"></div><script type=\"text/javascript\">require([\"plotly\"], function(Plotly) { window.PLOTLYENV=window.PLOTLYENV || {};window.PLOTLYENV.BASE_URL=\"https://plot.ly\";Plotly.newPlot(\"5508e270-7711-4e05-af1d-668c6e562223\", [{\"type\": \"scatter\", \"x\": [61, 186, 402, 205, 315, 410, 275, 133, 175, 63, 66, 333, 287, 317, 290, 117], \"y\": [317, 410, 162, 443, 444, 372, 481, 162, 162, 441, 230, 14, 116, 113, 407, 475], \"mode\": \"markers\"}, {\"type\": \"scatter\", \"x\": [61, 186, 402, 205, 315, 410, 275, 133, 175, 63, 66, 333, 287, 317, 290, 117], \"y\": [317, 410, 162, 443, 444, 372, 481, 162, 162, 441, 230, 14, 116, 113, 407, 475], \"marker\": {\"size\": [50, 0.0, 0.0, 0.0, 0.0, 0.0, 0.0, 0.0, 0.0, 0.0, 0.0, 0.0, 0.0, 0.0, 0.0, 0.0], \"color\": [\"black\", 2, 2, 2, 2, 2, 2, 2, 2, 2, 2, 2, 2, 2, 2, 2], \"showscale\": true, \"cauto\": true, \"opacity\": 0.8}, \"mode\": \"markers\"}, {\"type\": \"scatter\", \"x\": [61], \"y\": [317]}], {\"title\": \"period6\", \"xaxis\": {\"title\": \"x\"}, \"yaxis\": {\"title\": \"y\"}}, {\"showLink\": true, \"linkText\": \"Export to plot.ly\"})});</script>"
      ]
     },
     "metadata": {},
     "output_type": "display_data"
    }
   ],
   "source": [
    "import plotly.offline as py\n",
    "import plotly.graph_objs as go\n",
    "import csv\n",
    "import json\n",
    "\n",
    "py.init_notebook_mode(connected=True)\n",
    "\n",
    "file_name=\"D:\\\\实验室问题\\\\IRP\\\\InventoryRouting\\\\Deploy\\\\Instance\\\\Instances_lowcost_H6\\\\abs5n15.json\"\n",
    "with open(file_name, 'r') as f:\n",
    "    data = json.load(f)\n",
    "\n",
    "result_path='D:\\\\实验室问题\\\\IRP\\\\Solution\\\\Classic\\\\lowcost_H6.abs5n15.csv'\n",
    "deliver = []  ##deliver means the result approach\n",
    "csv_file = csv.reader(open(result_path, 'r'))\n",
    "for a in csv_file:\n",
    "    deliver.append(a)\n",
    "\n",
    "x = []\n",
    "y = []\n",
    "kucun = []\n",
    "produce = []\n",
    "period = data['periodNum']\n",
    "for node in data['nodes']:\n",
    "    x.append(node['x'])\n",
    "    y.append(node['y'])\n",
    "    produce.append(-node['unitDemand'])\n",
    "    kucun.append(node['initQuantity'])\n",
    "\n",
    "print(\"车的容量：\",data['vehicles'][0]['capacity'])\n",
    "\n",
    "putdown = [0] * len(x)\n",
    "for i in range(period):\n",
    "    x1 = []\n",
    "    y1 = []\n",
    "\n",
    "    layout=go.Layout(title=\"period\"+str(i+1), xaxis={'title':'x'}, yaxis={'title':'y'})\n",
    "    for j in range(len(x)):\n",
    "        kucun[j] = kucun[j] + produce[j]\n",
    "        putdown[j] = 2\n",
    "    if len(deliver[3 * i + 1])>3:\n",
    "        print('装货量：',deliver[3 * i + 2][1])\n",
    "    for k in range(1, len(deliver[3 * i + 1]) - 1):\n",
    "        num = int(deliver[3 * i + 1][k])\n",
    "        if (num == 0):\n",
    "            kucun[num] = kucun[num] - float(deliver[3 * i + 2][k])\n",
    "        else:\n",
    "            kucun[num] = kucun[num] + float(deliver[3 * i + 2][k])\n",
    "            putdown[num] = putdown[num] + float(deliver[3 * i + 2][k])\n",
    "        x1.append(x[num])\n",
    "        y1.append(y[num])\n",
    "    \n",
    "    x1.append(x[0])\n",
    "    y1.append(y[0])\n",
    "    kucun[0]=50\n",
    "    putdown[0] = 'black'\n",
    "\n",
    "    node = go.Scatter(\n",
    "        x=x,\n",
    "        y=y,\n",
    "        mode='markers'\n",
    "    )\n",
    "    storage = go.Scatter(\n",
    "        x=x,\n",
    "        y=y,\n",
    "        marker=dict(\n",
    "            size=kucun,\n",
    "            color=putdown,\n",
    "            showscale=True,\n",
    "            cauto=True,\n",
    "            opacity=0.8  # transparent\n",
    "        ),\n",
    "        mode='markers'\n",
    "    )\n",
    "\n",
    "    if (len(x1) != 0):\n",
    "        route = go.Scatter(\n",
    "            x=x1,\n",
    "            y=y1,\n",
    "        )\n",
    "        data=[node, storage.copy(), route.copy()]\n",
    "    else:\n",
    "        data=[node, storage.copy()]\n",
    "    figure=go.Figure(data=data,layout=layout)\n",
    "    py.iplot(figure)"
   ]
  },
  {
   "cell_type": "code",
   "execution_count": null,
   "metadata": {},
   "outputs": [],
   "source": []
  }
 ],
 "metadata": {
  "kernelspec": {
   "display_name": "Python 3",
   "language": "python",
   "name": "python3"
  },
  "language_info": {
   "codemirror_mode": {
    "name": "ipython",
    "version": 3
   },
   "file_extension": ".py",
   "mimetype": "text/x-python",
   "name": "python",
   "nbconvert_exporter": "python",
   "pygments_lexer": "ipython3",
   "version": "3.6.5"
  }
 },
 "nbformat": 4,
 "nbformat_minor": 2
}
