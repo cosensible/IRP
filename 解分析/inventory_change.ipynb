{
 "cells": [
  {
   "cell_type": "code",
   "execution_count": 10,
   "metadata": {},
   "outputs": [
    {
     "data": {
      "text/html": [
       "<script>requirejs.config({paths: { 'plotly': ['https://cdn.plot.ly/plotly-latest.min']},});if(!window.Plotly) {{require(['plotly'],function(plotly) {window.Plotly=plotly;});}}</script>"
      ],
      "text/vnd.plotly.v1+html": [
       "<script>requirejs.config({paths: { 'plotly': ['https://cdn.plot.ly/plotly-latest.min']},});if(!window.Plotly) {{require(['plotly'],function(plotly) {window.Plotly=plotly;});}}</script>"
      ]
     },
     "metadata": {},
     "output_type": "display_data"
    },
    {
     "data": {
      "application/vnd.plotly.v1+json": {
       "data": [
        {
         "name": "n1",
         "type": "scatter",
         "x": [
          0,
          1,
          2,
          3,
          4,
          5,
          6
         ],
         "y": [
          112,
          56,
          56,
          0,
          112,
          56,
          0
         ]
        },
        {
         "name": "n2",
         "type": "scatter",
         "x": [
          0,
          1,
          2,
          3,
          4,
          5,
          6
         ],
         "y": [
          88,
          0,
          88,
          0,
          0,
          88,
          0
         ]
        },
        {
         "name": "n3",
         "type": "scatter",
         "x": [
          0,
          1,
          2,
          3,
          4,
          5,
          6
         ],
         "y": [
          17,
          0,
          17,
          0,
          0,
          17,
          0
         ]
        },
        {
         "name": "n4",
         "type": "scatter",
         "x": [
          0,
          1,
          2,
          3,
          4,
          5,
          6
         ],
         "y": [
          33,
          0,
          33,
          0,
          33,
          33,
          0
         ]
        },
        {
         "name": "n5",
         "type": "scatter",
         "x": [
          0,
          1,
          2,
          3,
          4,
          5,
          6
         ],
         "y": [
          24,
          12,
          24,
          12,
          0,
          24,
          12
         ]
        },
        {
         "name": "n6",
         "type": "scatter",
         "x": [
          0,
          1,
          2,
          3,
          4,
          5,
          6
         ],
         "y": [
          118,
          59,
          59,
          0,
          118,
          59,
          0
         ]
        },
        {
         "name": "n7",
         "type": "scatter",
         "x": [
          0,
          1,
          2,
          3,
          4,
          5,
          6
         ],
         "y": [
          53,
          0,
          53,
          0,
          0,
          53,
          0
         ]
        },
        {
         "name": "n8",
         "type": "scatter",
         "x": [
          0,
          1,
          2,
          3,
          4,
          5,
          6
         ],
         "y": [
          59,
          0,
          0,
          59,
          0,
          59,
          0
         ]
        },
        {
         "name": "n9",
         "type": "scatter",
         "x": [
          0,
          1,
          2,
          3,
          4,
          5,
          6
         ],
         "y": [
          91,
          0,
          0,
          91,
          0,
          91,
          0
         ]
        },
        {
         "name": "n10",
         "type": "scatter",
         "x": [
          0,
          1,
          2,
          3,
          4,
          5,
          6
         ],
         "y": [
          32,
          0,
          32,
          0,
          0,
          32,
          0
         ]
        },
        {
         "name": "n11",
         "type": "scatter",
         "x": [
          0,
          1,
          2,
          3,
          4,
          5,
          6
         ],
         "y": [
          94,
          47,
          94,
          47,
          0,
          94,
          47
         ]
        },
        {
         "name": "n12",
         "type": "scatter",
         "x": [
          0,
          1,
          2,
          3,
          4,
          5,
          6
         ],
         "y": [
          126,
          63,
          63,
          0,
          126,
          63,
          0
         ]
        },
        {
         "name": "n13",
         "type": "scatter",
         "x": [
          0,
          1,
          2,
          3,
          4,
          5,
          6
         ],
         "y": [
          42,
          21,
          42,
          21,
          42,
          21,
          0
         ]
        },
        {
         "name": "n14",
         "type": "scatter",
         "x": [
          0,
          1,
          2,
          3,
          4,
          5,
          6
         ],
         "y": [
          23,
          0,
          23,
          0,
          0,
          23,
          0
         ]
        },
        {
         "name": "n15",
         "type": "scatter",
         "x": [
          0,
          1,
          2,
          3,
          4,
          5,
          6
         ],
         "y": [
          74,
          37,
          37,
          0,
          74,
          37,
          0
         ]
        },
        {
         "name": "n16",
         "type": "scatter",
         "x": [
          0,
          1,
          2,
          3,
          4,
          5,
          6
         ],
         "y": [
          91,
          0,
          91,
          0,
          0,
          91,
          0
         ]
        },
        {
         "name": "n17",
         "type": "scatter",
         "x": [
          0,
          1,
          2,
          3,
          4,
          5,
          6
         ],
         "y": [
          154,
          77,
          154,
          77,
          154,
          77,
          0
         ]
        },
        {
         "name": "n18",
         "type": "scatter",
         "x": [
          0,
          1,
          2,
          3,
          4,
          5,
          6
         ],
         "y": [
          24,
          12,
          24,
          12,
          0,
          12,
          0
         ]
        },
        {
         "name": "n19",
         "type": "scatter",
         "x": [
          0,
          1,
          2,
          3,
          4,
          5,
          6
         ],
         "y": [
          44,
          22,
          22,
          0,
          44,
          22,
          0
         ]
        },
        {
         "name": "n20",
         "type": "scatter",
         "x": [
          0,
          1,
          2,
          3,
          4,
          5,
          6
         ],
         "y": [
          34,
          0,
          34,
          0,
          34,
          34,
          0
         ]
        },
        {
         "name": "n21",
         "type": "scatter",
         "x": [
          0,
          1,
          2,
          3,
          4,
          5,
          6
         ],
         "y": [
          36,
          18,
          36,
          18,
          0,
          18,
          0
         ]
        },
        {
         "name": "n22",
         "type": "scatter",
         "x": [
          0,
          1,
          2,
          3,
          4,
          5,
          6
         ],
         "y": [
          88,
          44,
          0,
          44,
          0,
          44,
          0
         ]
        },
        {
         "name": "n23",
         "type": "scatter",
         "x": [
          0,
          1,
          2,
          3,
          4,
          5,
          6
         ],
         "y": [
          45,
          0,
          45,
          0,
          11,
          45,
          0
         ]
        },
        {
         "name": "n24",
         "type": "scatter",
         "x": [
          0,
          1,
          2,
          3,
          4,
          5,
          6
         ],
         "y": [
          164,
          82,
          82,
          0,
          164,
          82,
          0
         ]
        },
        {
         "name": "n25",
         "type": "scatter",
         "x": [
          0,
          1,
          2,
          3,
          4,
          5,
          6
         ],
         "y": [
          50,
          25,
          36,
          11,
          50,
          25,
          0
         ]
        }
       ],
       "layout": {}
      },
      "text/html": [
       "<div id=\"badef3bc-c512-4c5e-8480-85655ee487c0\" style=\"height: 525px; width: 100%;\" class=\"plotly-graph-div\"></div><script type=\"text/javascript\">require([\"plotly\"], function(Plotly) { window.PLOTLYENV=window.PLOTLYENV || {};window.PLOTLYENV.BASE_URL=\"https://plot.ly\";Plotly.newPlot(\"badef3bc-c512-4c5e-8480-85655ee487c0\", [{\"type\": \"scatter\", \"x\": [0, 1, 2, 3, 4, 5, 6], \"y\": [112, 56, 56.0, 0.0, 112.0, 56.0, 0.0], \"name\": \"n1\"}, {\"type\": \"scatter\", \"x\": [0, 1, 2, 3, 4, 5, 6], \"y\": [88, 0, 88.0, 0.0, 0.0, 88.0, 0.0], \"name\": \"n2\"}, {\"type\": \"scatter\", \"x\": [0, 1, 2, 3, 4, 5, 6], \"y\": [17, 0, 17.0, 0.0, 0.0, 17.0, 0.0], \"name\": \"n3\"}, {\"type\": \"scatter\", \"x\": [0, 1, 2, 3, 4, 5, 6], \"y\": [33, 0, 33.0, 0.0, 33.0, 33.0, 0.0], \"name\": \"n4\"}, {\"type\": \"scatter\", \"x\": [0, 1, 2, 3, 4, 5, 6], \"y\": [24, 12, 24.0, 12.0, 0.0, 24.0, 12.0], \"name\": \"n5\"}, {\"type\": \"scatter\", \"x\": [0, 1, 2, 3, 4, 5, 6], \"y\": [118, 59, 59.0, 0.0, 118.0, 59.0, 0.0], \"name\": \"n6\"}, {\"type\": \"scatter\", \"x\": [0, 1, 2, 3, 4, 5, 6], \"y\": [53, 0, 53.0, 0.0, 0.0, 53.0, 0.0], \"name\": \"n7\"}, {\"type\": \"scatter\", \"x\": [0, 1, 2, 3, 4, 5, 6], \"y\": [59, 0, 0.0, 59.0, 0.0, 59.0, 0.0], \"name\": \"n8\"}, {\"type\": \"scatter\", \"x\": [0, 1, 2, 3, 4, 5, 6], \"y\": [91, 0, 0.0, 91.0, 0.0, 91.0, 0.0], \"name\": \"n9\"}, {\"type\": \"scatter\", \"x\": [0, 1, 2, 3, 4, 5, 6], \"y\": [32, 0, 32.0, 0.0, 0.0, 32.0, 0.0], \"name\": \"n10\"}, {\"type\": \"scatter\", \"x\": [0, 1, 2, 3, 4, 5, 6], \"y\": [94, 47, 94.0, 47.0, 0.0, 94.0, 47.0], \"name\": \"n11\"}, {\"type\": \"scatter\", \"x\": [0, 1, 2, 3, 4, 5, 6], \"y\": [126, 63, 63.0, 0.0, 126.0, 63.0, 0.0], \"name\": \"n12\"}, {\"type\": \"scatter\", \"x\": [0, 1, 2, 3, 4, 5, 6], \"y\": [42, 21, 42.0, 21.0, 42.0, 21.0, 0.0], \"name\": \"n13\"}, {\"type\": \"scatter\", \"x\": [0, 1, 2, 3, 4, 5, 6], \"y\": [23, 0, 23.0, 0.0, 0.0, 23.0, 0.0], \"name\": \"n14\"}, {\"type\": \"scatter\", \"x\": [0, 1, 2, 3, 4, 5, 6], \"y\": [74, 37, 37.0, 0.0, 74.0, 37.0, 0.0], \"name\": \"n15\"}, {\"type\": \"scatter\", \"x\": [0, 1, 2, 3, 4, 5, 6], \"y\": [91, 0, 91.0, 0.0, 0.0, 91.0, 0.0], \"name\": \"n16\"}, {\"type\": \"scatter\", \"x\": [0, 1, 2, 3, 4, 5, 6], \"y\": [154, 77, 154.0, 77.0, 154.0, 77.0, 0.0], \"name\": \"n17\"}, {\"type\": \"scatter\", \"x\": [0, 1, 2, 3, 4, 5, 6], \"y\": [24, 12, 24.0, 12.0, 0.0, 12.0, 0.0], \"name\": \"n18\"}, {\"type\": \"scatter\", \"x\": [0, 1, 2, 3, 4, 5, 6], \"y\": [44, 22, 22.0, 0.0, 44.0, 22.0, 0.0], \"name\": \"n19\"}, {\"type\": \"scatter\", \"x\": [0, 1, 2, 3, 4, 5, 6], \"y\": [34, 0, 34.0, 0.0, 34.0, 34.0, 0.0], \"name\": \"n20\"}, {\"type\": \"scatter\", \"x\": [0, 1, 2, 3, 4, 5, 6], \"y\": [36, 18, 36.0, 18.0, 0.0, 18.0, 0.0], \"name\": \"n21\"}, {\"type\": \"scatter\", \"x\": [0, 1, 2, 3, 4, 5, 6], \"y\": [88, 44, 0, 44.0, 0.0, 44.0, 0.0], \"name\": \"n22\"}, {\"type\": \"scatter\", \"x\": [0, 1, 2, 3, 4, 5, 6], \"y\": [45, 0, 45.0, 0.0, 11.0, 45.0, 0.0], \"name\": \"n23\"}, {\"type\": \"scatter\", \"x\": [0, 1, 2, 3, 4, 5, 6], \"y\": [164, 82, 82.0, 0.0, 164.0, 82.0, 0.0], \"name\": \"n24\"}, {\"type\": \"scatter\", \"x\": [0, 1, 2, 3, 4, 5, 6], \"y\": [50, 25, 36.0, 11.0, 50.0, 25.0, 0.0], \"name\": \"n25\"}], {}, {\"showLink\": true, \"linkText\": \"Export to plot.ly\"})});</script>"
      ],
      "text/vnd.plotly.v1+html": [
       "<div id=\"badef3bc-c512-4c5e-8480-85655ee487c0\" style=\"height: 525px; width: 100%;\" class=\"plotly-graph-div\"></div><script type=\"text/javascript\">require([\"plotly\"], function(Plotly) { window.PLOTLYENV=window.PLOTLYENV || {};window.PLOTLYENV.BASE_URL=\"https://plot.ly\";Plotly.newPlot(\"badef3bc-c512-4c5e-8480-85655ee487c0\", [{\"type\": \"scatter\", \"x\": [0, 1, 2, 3, 4, 5, 6], \"y\": [112, 56, 56.0, 0.0, 112.0, 56.0, 0.0], \"name\": \"n1\"}, {\"type\": \"scatter\", \"x\": [0, 1, 2, 3, 4, 5, 6], \"y\": [88, 0, 88.0, 0.0, 0.0, 88.0, 0.0], \"name\": \"n2\"}, {\"type\": \"scatter\", \"x\": [0, 1, 2, 3, 4, 5, 6], \"y\": [17, 0, 17.0, 0.0, 0.0, 17.0, 0.0], \"name\": \"n3\"}, {\"type\": \"scatter\", \"x\": [0, 1, 2, 3, 4, 5, 6], \"y\": [33, 0, 33.0, 0.0, 33.0, 33.0, 0.0], \"name\": \"n4\"}, {\"type\": \"scatter\", \"x\": [0, 1, 2, 3, 4, 5, 6], \"y\": [24, 12, 24.0, 12.0, 0.0, 24.0, 12.0], \"name\": \"n5\"}, {\"type\": \"scatter\", \"x\": [0, 1, 2, 3, 4, 5, 6], \"y\": [118, 59, 59.0, 0.0, 118.0, 59.0, 0.0], \"name\": \"n6\"}, {\"type\": \"scatter\", \"x\": [0, 1, 2, 3, 4, 5, 6], \"y\": [53, 0, 53.0, 0.0, 0.0, 53.0, 0.0], \"name\": \"n7\"}, {\"type\": \"scatter\", \"x\": [0, 1, 2, 3, 4, 5, 6], \"y\": [59, 0, 0.0, 59.0, 0.0, 59.0, 0.0], \"name\": \"n8\"}, {\"type\": \"scatter\", \"x\": [0, 1, 2, 3, 4, 5, 6], \"y\": [91, 0, 0.0, 91.0, 0.0, 91.0, 0.0], \"name\": \"n9\"}, {\"type\": \"scatter\", \"x\": [0, 1, 2, 3, 4, 5, 6], \"y\": [32, 0, 32.0, 0.0, 0.0, 32.0, 0.0], \"name\": \"n10\"}, {\"type\": \"scatter\", \"x\": [0, 1, 2, 3, 4, 5, 6], \"y\": [94, 47, 94.0, 47.0, 0.0, 94.0, 47.0], \"name\": \"n11\"}, {\"type\": \"scatter\", \"x\": [0, 1, 2, 3, 4, 5, 6], \"y\": [126, 63, 63.0, 0.0, 126.0, 63.0, 0.0], \"name\": \"n12\"}, {\"type\": \"scatter\", \"x\": [0, 1, 2, 3, 4, 5, 6], \"y\": [42, 21, 42.0, 21.0, 42.0, 21.0, 0.0], \"name\": \"n13\"}, {\"type\": \"scatter\", \"x\": [0, 1, 2, 3, 4, 5, 6], \"y\": [23, 0, 23.0, 0.0, 0.0, 23.0, 0.0], \"name\": \"n14\"}, {\"type\": \"scatter\", \"x\": [0, 1, 2, 3, 4, 5, 6], \"y\": [74, 37, 37.0, 0.0, 74.0, 37.0, 0.0], \"name\": \"n15\"}, {\"type\": \"scatter\", \"x\": [0, 1, 2, 3, 4, 5, 6], \"y\": [91, 0, 91.0, 0.0, 0.0, 91.0, 0.0], \"name\": \"n16\"}, {\"type\": \"scatter\", \"x\": [0, 1, 2, 3, 4, 5, 6], \"y\": [154, 77, 154.0, 77.0, 154.0, 77.0, 0.0], \"name\": \"n17\"}, {\"type\": \"scatter\", \"x\": [0, 1, 2, 3, 4, 5, 6], \"y\": [24, 12, 24.0, 12.0, 0.0, 12.0, 0.0], \"name\": \"n18\"}, {\"type\": \"scatter\", \"x\": [0, 1, 2, 3, 4, 5, 6], \"y\": [44, 22, 22.0, 0.0, 44.0, 22.0, 0.0], \"name\": \"n19\"}, {\"type\": \"scatter\", \"x\": [0, 1, 2, 3, 4, 5, 6], \"y\": [34, 0, 34.0, 0.0, 34.0, 34.0, 0.0], \"name\": \"n20\"}, {\"type\": \"scatter\", \"x\": [0, 1, 2, 3, 4, 5, 6], \"y\": [36, 18, 36.0, 18.0, 0.0, 18.0, 0.0], \"name\": \"n21\"}, {\"type\": \"scatter\", \"x\": [0, 1, 2, 3, 4, 5, 6], \"y\": [88, 44, 0, 44.0, 0.0, 44.0, 0.0], \"name\": \"n22\"}, {\"type\": \"scatter\", \"x\": [0, 1, 2, 3, 4, 5, 6], \"y\": [45, 0, 45.0, 0.0, 11.0, 45.0, 0.0], \"name\": \"n23\"}, {\"type\": \"scatter\", \"x\": [0, 1, 2, 3, 4, 5, 6], \"y\": [164, 82, 82.0, 0.0, 164.0, 82.0, 0.0], \"name\": \"n24\"}, {\"type\": \"scatter\", \"x\": [0, 1, 2, 3, 4, 5, 6], \"y\": [50, 25, 36.0, 11.0, 50.0, 25.0, 0.0], \"name\": \"n25\"}], {}, {\"showLink\": true, \"linkText\": \"Export to plot.ly\"})});</script>"
      ]
     },
     "metadata": {},
     "output_type": "display_data"
    }
   ],
   "source": [
    "import plotly.offline as pol\n",
    "import plotly.graph_objs as go\n",
    "import csv\n",
    "import json\n",
    "\n",
    "pol.init_notebook_mode(connected=True)\n",
    "\n",
    "# 载入算例\n",
    "instance_path='./Instance/Instances_lowcost_H6/abs1n25.json'\n",
    "with open(instance_path, 'r') as f:\n",
    "    instance = json.load(f)\n",
    "\n",
    "# 载入解决方案\n",
    "deliveries=[]\n",
    "solution_path='./Classic/lowcost_H6.abs1n25.csv'\n",
    "csv_file = csv.reader(open(solution_path, 'r'))\n",
    "for line in csv_file:\n",
    "    deliveries.append(line)\n",
    "\n",
    "H=instance['periodNum'] # 周期数\n",
    "periods=[i for i in range(H+1)] # 周期集合，包含初始周期t0\n",
    "nodes=['n'+str(n['id']) for n in instance['nodes']] # 结点集合\n",
    "\n",
    "# 每周期每个结点的配送量，仓库为负\n",
    "delivery = [[0 for col in range(len(nodes))] for row in range(H)]\n",
    "for t in range(H):\n",
    "     for k in range(1, len(deliveries[3 * t + 1]) - 1):\n",
    "        num = int(deliveries[3 * t + 1][k])\n",
    "        if (num > 0):\n",
    "            delivery[t][num]=float(deliveries[3 * t + 2][k])\n",
    "\n",
    "nodes_invens=[]\n",
    "for n in instance['nodes']:\n",
    "    if n['id']>0:\n",
    "        invens_n=[n['initQuantity']] # 初始库存\n",
    "        for t in range(H):\n",
    "            inven_t=invens_n[t]-n['unitDemand']+delivery[t][n['id']]\n",
    "            invens_n.append(inven_t)\n",
    "        nodes_invens.append(go.Scatter(\n",
    "            x=periods,\n",
    "            y=invens_n,\n",
    "            name='n'+str(n['id']),))\n",
    "\n",
    "fig = go.Figure(data=nodes_invens)\n",
    "pol.iplot(fig, filename='inventory_change')"
   ]
  },
  {
   "cell_type": "code",
   "execution_count": 45,
   "metadata": {},
   "outputs": [
    {
     "data": {
      "text/html": [
       "<script>requirejs.config({paths: { 'plotly': ['https://cdn.plot.ly/plotly-latest.min']},});if(!window.Plotly) {{require(['plotly'],function(plotly) {window.Plotly=plotly;});}}</script>"
      ],
      "text/vnd.plotly.v1+html": [
       "<script>requirejs.config({paths: { 'plotly': ['https://cdn.plot.ly/plotly-latest.min']},});if(!window.Plotly) {{require(['plotly'],function(plotly) {window.Plotly=plotly;});}}</script>"
      ]
     },
     "metadata": {},
     "output_type": "display_data"
    },
    {
     "name": "stdout",
     "output_type": "stream",
     "text": [
      "t= 0  n= 1  times= 0.0\n",
      "t= 0  n= 2  times= 0.0\n",
      "t= 0  n= 3  times= 0.0\n",
      "t= 0  n= 4  times= 0.0\n",
      "t= 0  n= 5  times= 0.0\n",
      "t= 0  n= 6  times= 0.0\n",
      "t= 0  n= 7  times= 0.0\n",
      "t= 0  n= 8  times= 0.0\n",
      "t= 0  n= 9  times= 0.0\n",
      "t= 0  n= 10  times= 0.0\n",
      "t= 0  n= 11  times= 0.0\n",
      "t= 0  n= 12  times= 0.0\n",
      "t= 0  n= 13  times= 0.0\n",
      "t= 0  n= 14  times= 0.0\n",
      "t= 0  n= 15  times= 0.0\n",
      "t= 0  n= 16  times= 0.0\n",
      "t= 0  n= 17  times= 0.0\n",
      "t= 0  n= 18  times= 0.0\n",
      "t= 0  n= 19  times= 0.0\n",
      "t= 0  n= 20  times= 0.0\n",
      "t= 0  n= 21  times= 0.0\n",
      "t= 0  n= 22  times= 0.0\n",
      "t= 0  n= 23  times= 0.0\n",
      "t= 0  n= 24  times= 0.0\n",
      "t= 0  n= 25  times= 0.0\n",
      "t= 1  n= 1  times= 2.0\n",
      "t= 1  n= 2  times= 2.0\n",
      "t= 1  n= 3  times= 2.0\n",
      "t= 1  n= 4  times= 2.0\n",
      "t= 1  n= 5  times= 2.0\n",
      "t= 1  n= 6  times= 2.0\n",
      "t= 1  n= 7  times= 1.0\n",
      "t= 1  n= 8  times= 1.0\n",
      "t= 1  n= 9  times= 1.0\n",
      "t= 1  n= 10  times= 1.0\n",
      "t= 1  n= 11  times= 2.0\n",
      "t= 1  n= 12  times= 2.0\n",
      "t= 1  n= 13  times= 1.0\n",
      "t= 1  n= 14  times= 2.0\n",
      "t= 1  n= 15  times= 0.0\n",
      "t= 1  n= 16  times= 2.0\n",
      "t= 1  n= 17  times= 2.0\n",
      "t= 1  n= 18  times= 2.0\n",
      "t= 1  n= 19  times= 2.0\n",
      "t= 1  n= 20  times= 1.0\n",
      "t= 1  n= 21  times= 1.0\n",
      "t= 1  n= 22  times= 2.0\n",
      "t= 1  n= 23  times= 1.0\n",
      "t= 1  n= 24  times= 2.0\n",
      "t= 1  n= 25  times= 1.0\n",
      "t= 2  n= 1  times= 0.0\n",
      "t= 2  n= 2  times= 0.0\n",
      "t= 2  n= 3  times= 0.0\n",
      "t= 2  n= 4  times= 0.0\n",
      "t= 2  n= 5  times= 0.0\n",
      "t= 2  n= 6  times= 0.0\n",
      "t= 2  n= 7  times= 0.0\n",
      "t= 2  n= 8  times= 0.0\n",
      "t= 2  n= 9  times= 0.0\n",
      "t= 2  n= 10  times= 0.0\n",
      "t= 2  n= 11  times= 0.0\n",
      "t= 2  n= 12  times= 0.0\n",
      "t= 2  n= 13  times= 2.0\n",
      "t= 2  n= 14  times= 0.0\n",
      "t= 2  n= 15  times= 3.0\n",
      "t= 2  n= 16  times= 0.0\n",
      "t= 2  n= 17  times= 0.0\n",
      "t= 2  n= 18  times= 0.0\n",
      "t= 2  n= 19  times= 0.0\n",
      "t= 2  n= 20  times= 0.0\n",
      "t= 2  n= 21  times= 0.0\n",
      "t= 2  n= 22  times= 0.0\n",
      "t= 2  n= 23  times= 0.0\n",
      "t= 2  n= 24  times= 0.0\n",
      "t= 2  n= 25  times= 0.0\n",
      "t= 3  n= 1  times= 1.0\n",
      "t= 3  n= 2  times= 2.0\n",
      "t= 3  n= 3  times= 1.0\n",
      "t= 3  n= 4  times= 1.0\n",
      "t= 3  n= 5  times= 1.0\n",
      "t= 3  n= 6  times= 1.0\n",
      "t= 3  n= 7  times= 1.0\n",
      "t= 3  n= 8  times= 3.0\n",
      "t= 3  n= 9  times= 3.0\n",
      "t= 3  n= 10  times= 3.0\n",
      "t= 3  n= 11  times= 1.0\n",
      "t= 3  n= 12  times= 0.0\n",
      "t= 3  n= 13  times= 0.0\n",
      "t= 3  n= 14  times= 0.0\n",
      "t= 3  n= 15  times= 0.0\n",
      "t= 3  n= 16  times= 1.0\n",
      "t= 3  n= 17  times= 1.0\n",
      "t= 3  n= 18  times= 1.0\n",
      "t= 3  n= 19  times= 1.0\n",
      "t= 3  n= 20  times= 2.603448275862069\n",
      "t= 3  n= 21  times= 3.0\n",
      "t= 3  n= 22  times= 1.0\n",
      "t= 3  n= 23  times= 3.0\n",
      "t= 3  n= 24  times= 1.0\n",
      "t= 3  n= 25  times= 3.0\n",
      "t= 4  n= 1  times= 2.0\n",
      "t= 4  n= 2  times= 1.0\n",
      "t= 4  n= 3  times= 2.0\n",
      "t= 4  n= 4  times= 2.0\n",
      "t= 4  n= 5  times= 2.0\n",
      "t= 4  n= 6  times= 2.0\n",
      "t= 4  n= 7  times= 2.6770833333333335\n",
      "t= 4  n= 8  times= 0.0\n",
      "t= 4  n= 9  times= 0.0\n",
      "t= 4  n= 10  times= 0.0\n",
      "t= 4  n= 11  times= 2.0\n",
      "t= 4  n= 12  times= 2.0\n",
      "t= 4  n= 13  times= 2.0\n",
      "t= 4  n= 14  times= 3.0\n",
      "t= 4  n= 15  times= 2.0\n",
      "t= 4  n= 16  times= 2.0\n",
      "t= 4  n= 17  times= 2.0\n",
      "t= 4  n= 18  times= 2.0\n",
      "t= 4  n= 19  times= 2.0\n",
      "t= 4  n= 20  times= 1.396551724137931\n",
      "t= 4  n= 21  times= 0.0\n",
      "t= 4  n= 22  times= 2.0\n",
      "t= 4  n= 23  times= 0.0\n",
      "t= 4  n= 24  times= 2.0\n",
      "t= 4  n= 25  times= 0.0\n",
      "t= 5  n= 1  times= 0.0\n",
      "t= 5  n= 2  times= 0.0\n",
      "t= 5  n= 3  times= 0.0\n",
      "t= 5  n= 4  times= 0.0\n",
      "t= 5  n= 5  times= 0.0\n",
      "t= 5  n= 6  times= 0.0\n",
      "t= 5  n= 7  times= 0.0\n",
      "t= 5  n= 8  times= 0.0\n",
      "t= 5  n= 9  times= 0.0\n",
      "t= 5  n= 10  times= 0.0\n",
      "t= 5  n= 11  times= 0.0\n",
      "t= 5  n= 12  times= 0.0\n",
      "t= 5  n= 13  times= 0.0\n",
      "t= 5  n= 14  times= 0.0\n",
      "t= 5  n= 15  times= 0.0\n",
      "t= 5  n= 16  times= 0.0\n",
      "t= 5  n= 17  times= 0.0\n",
      "t= 5  n= 18  times= 0.0\n",
      "t= 5  n= 19  times= 0.0\n",
      "t= 5  n= 20  times= 0.0\n",
      "t= 5  n= 21  times= 0.0\n",
      "t= 5  n= 22  times= 0.0\n",
      "t= 5  n= 23  times= 0.0\n",
      "t= 5  n= 24  times= 0.0\n",
      "t= 5  n= 25  times= 0.0\n"
     ]
    },
    {
     "name": "stderr",
     "output_type": "stream",
     "text": [
      "C:\\ProgramData\\Anaconda3\\lib\\site-packages\\plotly\\offline\\offline.py:459: UserWarning:\n",
      "\n",
      "Your filename `inventory_change` didn't end with .html. Adding .html to the end of your file.\n",
      "\n"
     ]
    },
    {
     "data": {
      "text/plain": [
       "'file://C:\\\\Users\\\\gen\\\\Desktop\\\\IRP\\\\inventory_change.html'"
      ]
     },
     "execution_count": 45,
     "metadata": {},
     "output_type": "execute_result"
    }
   ],
   "source": [
    "import plotly.offline as pol\n",
    "import plotly.graph_objs as go\n",
    "import csv\n",
    "import json\n",
    "\n",
    "pol.init_notebook_mode(connected=True)\n",
    "\n",
    "# 载入算例\n",
    "instance_path='./Instance/Instances_lowcost_H6/abs2n25.json'\n",
    "with open(instance_path, 'r') as f:\n",
    "    instance = json.load(f)\n",
    "\n",
    "# 载入解决方案\n",
    "deliveries=[]\n",
    "solution_path='./Classic/lowcost_H6.abs2n25.csv'\n",
    "csv_file = csv.reader(open(solution_path, 'r'))\n",
    "for line in csv_file:\n",
    "    deliveries.append(line)\n",
    "\n",
    "retailers=['n'+str(n['id']) for n in instance['nodes'] if n['id']>0] # 客户集合\n",
    "inventories=[n['initQuantity'] for n in instance['nodes'] if n['id']>0]\n",
    "\n",
    "# 每周期每个客户的配送量\n",
    "delivery = [[0 for col in range(len(retailers)+1)] for row in range(H)]\n",
    "for t in range(H):\n",
    "     for k in range(1, len(deliveries[3 * t + 1]) - 1):\n",
    "        num = int(deliveries[3 * t + 1][k])\n",
    "        if (num > 0):\n",
    "            delivery[t][num]=float(deliveries[3 * t + 2][k])\n",
    "\n",
    "trace0 = go.Bar(\n",
    "    y=inventories.copy(),\n",
    "    x=retailers,\n",
    "    text=['demand:'+str(n['unitDemand']) for n in instance['nodes'] if n['id']>0],\n",
    "    name='t0',\n",
    ")\n",
    "bars=[trace0]\n",
    "\n",
    "\n",
    "for t in range(0,instance['periodNum']):\n",
    "    deli2demand=[]\n",
    "    for n in instance['nodes']:\n",
    "        if n['id']==0:continue\n",
    "        inventories[n['id']-1]=inventories[n['id']-1]-n['unitDemand']+delivery[t][n['id']]\n",
    "        times=delivery[t][n['id']]/n['unitDemand']\n",
    "        print('t=',t,' n=',n['id'],' times=',times)\n",
    "        deli2demand.append(times)\n",
    "        \n",
    "    bars.append(go.Bar(\n",
    "        y=inventories.copy(),\n",
    "        x=retailers,\n",
    "        text=['delivery:'+str(d)+'='+str(times)+'* Demand' for d,times in zip(delivery[t][1:],deli2demand)],\n",
    "        name='t'+str(t+1)))\n",
    "\n",
    "layout = go.Layout(\n",
    "    barmode='group',\n",
    "    title='Inventory Change',\n",
    "    xaxis={'title':'Nodes'},\n",
    "    yaxis={'title':'Inventory level'},\n",
    "#     bargroupgap=0.2,\n",
    "    bargap=0.2,\n",
    ")\n",
    "\n",
    "fig = go.Figure(data=bars, layout=layout)\n",
    "pol.plot(fig, filename='inventory_change')"
   ]
  },
  {
   "cell_type": "code",
   "execution_count": null,
   "metadata": {},
   "outputs": [],
   "source": []
  }
 ],
 "metadata": {
  "kernelspec": {
   "display_name": "Python 3",
   "language": "python",
   "name": "python3"
  },
  "language_info": {
   "codemirror_mode": {
    "name": "ipython",
    "version": 3
   },
   "file_extension": ".py",
   "mimetype": "text/x-python",
   "name": "python",
   "nbconvert_exporter": "python",
   "pygments_lexer": "ipython3",
   "version": "3.6.5"
  }
 },
 "nbformat": 4,
 "nbformat_minor": 2
}
